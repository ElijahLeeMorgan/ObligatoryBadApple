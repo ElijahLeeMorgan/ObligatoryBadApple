{
 "cells": [
  {
   "cell_type": "markdown",
   "id": "597f532e",
   "metadata": {},
   "source": [
    "### Imports and Settings"
   ]
  },
  {
   "cell_type": "code",
   "execution_count": 5,
   "id": "44fa3da1",
   "metadata": {},
   "outputs": [],
   "source": [
    "from src.imgProcessing import Diceify\n",
    "\n",
    "input_frames_folder = \"/workspaces/ObligatoryBadApple/frames/vanilla\"\n",
    "output_frames_folder = \"/workspaces/ObligatoryBadApple/frames/diceified\"\n",
    "\n",
    "# Processing function MUST accept PIL Image as the first argument.\n",
    "processing_function = Diceify.diceify"
   ]
  },
  {
   "cell_type": "markdown",
   "id": "3d6778e2",
   "metadata": {},
   "source": [
    "### Process Frames"
   ]
  },
  {
   "cell_type": "code",
   "execution_count": 10,
   "id": "c662ab82",
   "metadata": {},
   "outputs": [
    {
     "ename": "AttributeError",
     "evalue": "type object 'Diceify' has no attribute 'mass_process'",
     "output_type": "error",
     "traceback": [
      "\u001b[31m---------------------------------------------------------------------------\u001b[39m",
      "\u001b[31mAttributeError\u001b[39m                            Traceback (most recent call last)",
      "\u001b[36mCell\u001b[39m\u001b[36m \u001b[39m\u001b[32mIn[10]\u001b[39m\u001b[32m, line 1\u001b[39m\n\u001b[32m----> \u001b[39m\u001b[32m1\u001b[39m \u001b[43mDiceify\u001b[49m\u001b[43m.\u001b[49m\u001b[43mmass_process\u001b[49m(input_frames_folder, output_frames_folder, \u001b[33m'\u001b[39m\u001b[33m.jpg\u001b[39m\u001b[33m'\u001b[39m, processing_function)\n",
      "\u001b[31mAttributeError\u001b[39m: type object 'Diceify' has no attribute 'mass_process'"
     ]
    }
   ],
   "source": [
    "Diceify.mass_process(input_frames_folder, output_frames_folder, '.jpg', processing_function)"
   ]
  }
 ],
 "metadata": {
  "kernelspec": {
   "display_name": "Python 3",
   "language": "python",
   "name": "python3"
  },
  "language_info": {
   "codemirror_mode": {
    "name": "ipython",
    "version": 3
   },
   "file_extension": ".py",
   "mimetype": "text/x-python",
   "name": "python",
   "nbconvert_exporter": "python",
   "pygments_lexer": "ipython3",
   "version": "3.12.1"
  }
 },
 "nbformat": 4,
 "nbformat_minor": 5
}
